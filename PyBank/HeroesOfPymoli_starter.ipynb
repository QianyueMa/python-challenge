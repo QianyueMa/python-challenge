{
 "cells": [
  {
   "cell_type": "markdown",
   "metadata": {},
   "source": [
    "### Heroes Of Pymoli Data Analysis\n",
    "* Of the 1163 active players, the vast majority are male (84%). There also exists, a smaller, but notable proportion of female players (14%).\n",
    "\n",
    "* Our peak age demographic falls between 20-24 (44.8%) with secondary groups falling between 15-19 (18.60%) and 25-29 (13.4%).  \n",
    "-----"
   ]
  },
  {
   "cell_type": "markdown",
   "metadata": {},
   "source": [
    "### Note\n",
    "* Instructions have been included for each segment. You do not have to follow them exactly, but they are included to help you think through the steps."
   ]
  },
  {
   "cell_type": "code",
   "execution_count": 3,
   "metadata": {},
   "outputs": [],
   "source": [
    "# Dependencies and Setup\n",
    "import pandas as pd\n",
    "import numpy as np\n",
    "\n",
    "# File to Load (Remember to Change These)\n",
    "file_to_load = \"Resources/purchase_data.csv\"\n",
    "\n",
    "# Read Purchasing File and store into Pandas data frame\n",
    "purchase_data = pd.read_csv(file_to_load)"
   ]
  },
  {
   "cell_type": "code",
   "execution_count": 4,
   "metadata": {},
   "outputs": [
    {
     "data": {
      "text/html": [
       "<div>\n",
       "<style scoped>\n",
       "    .dataframe tbody tr th:only-of-type {\n",
       "        vertical-align: middle;\n",
       "    }\n",
       "\n",
       "    .dataframe tbody tr th {\n",
       "        vertical-align: top;\n",
       "    }\n",
       "\n",
       "    .dataframe thead th {\n",
       "        text-align: right;\n",
       "    }\n",
       "</style>\n",
       "<table border=\"1\" class=\"dataframe\">\n",
       "  <thead>\n",
       "    <tr style=\"text-align: right;\">\n",
       "      <th></th>\n",
       "      <th>Purchase ID</th>\n",
       "      <th>SN</th>\n",
       "      <th>Age</th>\n",
       "      <th>Gender</th>\n",
       "      <th>Item ID</th>\n",
       "      <th>Item Name</th>\n",
       "      <th>Price</th>\n",
       "    </tr>\n",
       "  </thead>\n",
       "  <tbody>\n",
       "    <tr>\n",
       "      <th>0</th>\n",
       "      <td>0</td>\n",
       "      <td>Lisim78</td>\n",
       "      <td>20</td>\n",
       "      <td>Male</td>\n",
       "      <td>108</td>\n",
       "      <td>Extraction, Quickblade Of Trembling Hands</td>\n",
       "      <td>3.53</td>\n",
       "    </tr>\n",
       "    <tr>\n",
       "      <th>1</th>\n",
       "      <td>1</td>\n",
       "      <td>Lisovynya38</td>\n",
       "      <td>40</td>\n",
       "      <td>Male</td>\n",
       "      <td>143</td>\n",
       "      <td>Frenzied Scimitar</td>\n",
       "      <td>1.56</td>\n",
       "    </tr>\n",
       "    <tr>\n",
       "      <th>2</th>\n",
       "      <td>2</td>\n",
       "      <td>Ithergue48</td>\n",
       "      <td>24</td>\n",
       "      <td>Male</td>\n",
       "      <td>92</td>\n",
       "      <td>Final Critic</td>\n",
       "      <td>4.88</td>\n",
       "    </tr>\n",
       "    <tr>\n",
       "      <th>3</th>\n",
       "      <td>3</td>\n",
       "      <td>Chamassasya86</td>\n",
       "      <td>24</td>\n",
       "      <td>Male</td>\n",
       "      <td>100</td>\n",
       "      <td>Blindscythe</td>\n",
       "      <td>3.27</td>\n",
       "    </tr>\n",
       "    <tr>\n",
       "      <th>4</th>\n",
       "      <td>4</td>\n",
       "      <td>Iskosia90</td>\n",
       "      <td>23</td>\n",
       "      <td>Male</td>\n",
       "      <td>131</td>\n",
       "      <td>Fury</td>\n",
       "      <td>1.44</td>\n",
       "    </tr>\n",
       "  </tbody>\n",
       "</table>\n",
       "</div>"
      ],
      "text/plain": [
       "   Purchase ID             SN  Age Gender  Item ID  \\\n",
       "0            0        Lisim78   20   Male      108   \n",
       "1            1    Lisovynya38   40   Male      143   \n",
       "2            2     Ithergue48   24   Male       92   \n",
       "3            3  Chamassasya86   24   Male      100   \n",
       "4            4      Iskosia90   23   Male      131   \n",
       "\n",
       "                                   Item Name  Price  \n",
       "0  Extraction, Quickblade Of Trembling Hands   3.53  \n",
       "1                          Frenzied Scimitar   1.56  \n",
       "2                               Final Critic   4.88  \n",
       "3                                Blindscythe   3.27  \n",
       "4                                       Fury   1.44  "
      ]
     },
     "execution_count": 4,
     "metadata": {},
     "output_type": "execute_result"
    }
   ],
   "source": [
    "purchase_data.head()"
   ]
  },
  {
   "cell_type": "markdown",
   "metadata": {},
   "source": [
    "## Player Count"
   ]
  },
  {
   "cell_type": "markdown",
   "metadata": {},
   "source": [
    "* Display the total number of players\n"
   ]
  },
  {
   "cell_type": "code",
   "execution_count": 5,
   "metadata": {},
   "outputs": [
    {
     "data": {
      "text/html": [
       "<div>\n",
       "<style scoped>\n",
       "    .dataframe tbody tr th:only-of-type {\n",
       "        vertical-align: middle;\n",
       "    }\n",
       "\n",
       "    .dataframe tbody tr th {\n",
       "        vertical-align: top;\n",
       "    }\n",
       "\n",
       "    .dataframe thead th {\n",
       "        text-align: right;\n",
       "    }\n",
       "</style>\n",
       "<table border=\"1\" class=\"dataframe\">\n",
       "  <thead>\n",
       "    <tr style=\"text-align: right;\">\n",
       "      <th></th>\n",
       "      <th>Total Players</th>\n",
       "    </tr>\n",
       "  </thead>\n",
       "  <tbody>\n",
       "    <tr>\n",
       "      <th>0</th>\n",
       "      <td>576</td>\n",
       "    </tr>\n",
       "  </tbody>\n",
       "</table>\n",
       "</div>"
      ],
      "text/plain": [
       "   Total Players\n",
       "0            576"
      ]
     },
     "execution_count": 5,
     "metadata": {},
     "output_type": "execute_result"
    }
   ],
   "source": [
    "# Count the total number of players by counting the total number of the unique user names\n",
    "num_players = len(purchase_data[\"SN\"].value_counts()) # value_counts() function returns object containing counts of unique values\n",
    "num_players_df = pd.DataFrame({\"Total Players\":[num_players]})\n",
    "\n",
    "num_players_df"
   ]
  },
  {
   "cell_type": "markdown",
   "metadata": {},
   "source": [
    "## Purchasing Analysis (Total)"
   ]
  },
  {
   "cell_type": "markdown",
   "metadata": {},
   "source": [
    "* Run basic calculations to obtain number of unique items, average price, etc.\n",
    "\n",
    "\n",
    "* Create a summary data frame to hold the results\n",
    "\n",
    "\n",
    "* Optional: give the displayed data cleaner formatting\n",
    "\n",
    "\n",
    "* Display the summary data frame\n"
   ]
  },
  {
   "cell_type": "code",
   "execution_count": 6,
   "metadata": {
    "scrolled": true
   },
   "outputs": [
    {
     "data": {
      "text/html": [
       "<style  type=\"text/css\" >\n",
       "</style><table id=\"T_5430b654_aacf_11ea_bd63_784f438b805a\" ><thead>    <tr>        <th class=\"blank level0\" ></th>        <th class=\"col_heading level0 col0\" >Number of Unique Items</th>        <th class=\"col_heading level0 col1\" >Average Price</th>        <th class=\"col_heading level0 col2\" >Number of Purchases</th>        <th class=\"col_heading level0 col3\" >Total Revenue</th>    </tr></thead><tbody>\n",
       "                <tr>\n",
       "                        <th id=\"T_5430b654_aacf_11ea_bd63_784f438b805alevel0_row0\" class=\"row_heading level0 row0\" >0</th>\n",
       "                        <td id=\"T_5430b654_aacf_11ea_bd63_784f438b805arow0_col0\" class=\"data row0 col0\" >179</td>\n",
       "                        <td id=\"T_5430b654_aacf_11ea_bd63_784f438b805arow0_col1\" class=\"data row0 col1\" >$3.05</td>\n",
       "                        <td id=\"T_5430b654_aacf_11ea_bd63_784f438b805arow0_col2\" class=\"data row0 col2\" >780</td>\n",
       "                        <td id=\"T_5430b654_aacf_11ea_bd63_784f438b805arow0_col3\" class=\"data row0 col3\" >$2,379.77</td>\n",
       "            </tr>\n",
       "    </tbody></table>"
      ],
      "text/plain": [
       "<pandas.io.formats.style.Styler at 0x11648bfd0>"
      ]
     },
     "execution_count": 6,
     "metadata": {},
     "output_type": "execute_result"
    }
   ],
   "source": [
    "purchase_summary = pd.DataFrame({\n",
    "    'Number of Unique Items': [len(purchase_data[\"Item ID\"].value_counts())],\n",
    "    'Average Price': [purchase_data['Price'].mean()],\n",
    "    'Number of Purchases': [purchase_data[\"Purchase ID\"].count()],\n",
    "    'Total Revenue': [purchase_data['Price'].sum()]\n",
    "    })\n",
    "\n",
    "# Round to 2 decimals in a column with the round() function\n",
    "purchase_summary.round(2)\n",
    "\n",
    "# Format with currency $ style\n",
    "purchase_summary.style.format({\"Average Price\":\"${:,.2f}\",\n",
    "                               \"Total Revenue\":\"${:,.2f}\"})"
   ]
  },
  {
   "cell_type": "markdown",
   "metadata": {},
   "source": [
    "## Gender Demographics"
   ]
  },
  {
   "cell_type": "markdown",
   "metadata": {},
   "source": [
    "* Percentage and Count of Male Players\n",
    "\n",
    "\n",
    "* Percentage and Count of Female Players\n",
    "\n",
    "\n",
    "* Percentage and Count of Other / Non-Disclosed\n",
    "\n",
    "\n"
   ]
  },
  {
   "cell_type": "code",
   "execution_count": 7,
   "metadata": {},
   "outputs": [
    {
     "ename": "NameError",
     "evalue": "name 'count_by_gender' is not defined",
     "output_type": "error",
     "traceback": [
      "\u001b[0;31m---------------------------------------------------------------------------\u001b[0m",
      "\u001b[0;31mNameError\u001b[0m                                 Traceback (most recent call last)",
      "\u001b[0;32m<ipython-input-7-fdba70a5ff47>\u001b[0m in \u001b[0;36m<module>\u001b[0;34m\u001b[0m\n\u001b[1;32m      1\u001b[0m \u001b[0;31m# Count the numbers of the players by genders using groupby() function\u001b[0m\u001b[0;34m\u001b[0m\u001b[0;34m\u001b[0m\u001b[0;34m\u001b[0m\u001b[0m\n\u001b[1;32m      2\u001b[0m \u001b[0mgroup_by_gender\u001b[0m \u001b[0;34m=\u001b[0m \u001b[0mpurchase_data\u001b[0m\u001b[0;34m.\u001b[0m\u001b[0mgroupby\u001b[0m\u001b[0;34m(\u001b[0m\u001b[0;34m\"Gender\"\u001b[0m\u001b[0;34m)\u001b[0m\u001b[0;34m\u001b[0m\u001b[0;34m\u001b[0m\u001b[0m\n\u001b[0;32m----> 3\u001b[0;31m \u001b[0mnum_players_by_gender\u001b[0m \u001b[0;34m=\u001b[0m \u001b[0mcount_by_gender\u001b[0m\u001b[0;34m.\u001b[0m\u001b[0mnunique\u001b[0m\u001b[0;34m(\u001b[0m\u001b[0;34m)\u001b[0m\u001b[0;34m[\u001b[0m\u001b[0;34m\"SN\"\u001b[0m\u001b[0;34m]\u001b[0m\u001b[0;34m\u001b[0m\u001b[0;34m\u001b[0m\u001b[0m\n\u001b[0m\u001b[1;32m      4\u001b[0m \u001b[0;34m\u001b[0m\u001b[0m\n\u001b[1;32m      5\u001b[0m \u001b[0;31m# Calculate the percentages of each gender\u001b[0m\u001b[0;34m\u001b[0m\u001b[0;34m\u001b[0m\u001b[0;34m\u001b[0m\u001b[0m\n",
      "\u001b[0;31mNameError\u001b[0m: name 'count_by_gender' is not defined"
     ]
    }
   ],
   "source": [
    "# Count the numbers of the players by genders using groupby() function\n",
    "group_by_gender = purchase_data.groupby(\"Gender\")\n",
    "num_players_by_gender = count_by_gender.nunique()[\"SN\"]\n",
    "\n",
    "# Calculate the percentages of each gender\n",
    "percent_players = (players_by_gender / num_players) * 100\n",
    "\n",
    "# Dataframe the calculations\n",
    "gender_demographics = pd.DataFrame({\n",
    "    \"Total Count\": num_players_by_gender,\n",
    "    \"Percentage of Players (%)\": percent_players\n",
    "    })\n",
    "\n",
    "gender_demographics.round(2)\n",
    "\n",
    "# Format the data frame with no index name in the corner\n",
    "gender_demographics.index.name = None\n",
    "\n",
    "# Format with % sign\n",
    "gender_demographics.style.format({\"Percentage of Players (%)\":\"{:,.2f}%\"})"
   ]
  },
  {
   "cell_type": "markdown",
   "metadata": {},
   "source": [
    "\n",
    "## Purchasing Analysis (Gender)"
   ]
  },
  {
   "cell_type": "markdown",
   "metadata": {},
   "source": [
    "* Run basic calculations to obtain purchase count, avg. purchase price, avg. purchase total per person etc. by gender\n",
    "\n",
    "\n",
    "\n",
    "\n",
    "* Create a summary data frame to hold the results\n",
    "\n",
    "\n",
    "* Optional: give the displayed data cleaner formatting\n",
    "\n",
    "\n",
    "* Display the summary data frame"
   ]
  },
  {
   "cell_type": "code",
   "execution_count": 8,
   "metadata": {},
   "outputs": [
    {
     "ename": "NameError",
     "evalue": "name 'num_players_by_gender' is not defined",
     "output_type": "error",
     "traceback": [
      "\u001b[0;31m---------------------------------------------------------------------------\u001b[0m",
      "\u001b[0;31mNameError\u001b[0m                                 Traceback (most recent call last)",
      "\u001b[0;32m<ipython-input-8-519d06bf5476>\u001b[0m in \u001b[0;36m<module>\u001b[0;34m\u001b[0m\n\u001b[1;32m      9\u001b[0m \u001b[0;34m\u001b[0m\u001b[0m\n\u001b[1;32m     10\u001b[0m \u001b[0;31m# Average total purchase per person by gender\u001b[0m\u001b[0;34m\u001b[0m\u001b[0;34m\u001b[0m\u001b[0;34m\u001b[0m\u001b[0m\n\u001b[0;32m---> 11\u001b[0;31m \u001b[0mavg_total_purchase_by_gender\u001b[0m \u001b[0;34m=\u001b[0m \u001b[0mtotal_purchase_by_gender\u001b[0m \u001b[0;34m/\u001b[0m \u001b[0mnum_players_by_gender\u001b[0m\u001b[0;34m\u001b[0m\u001b[0;34m\u001b[0m\u001b[0m\n\u001b[0m\u001b[1;32m     12\u001b[0m \u001b[0;34m\u001b[0m\u001b[0m\n\u001b[1;32m     13\u001b[0m \u001b[0;31m# Purchasing Analysis (by Gender)\u001b[0m\u001b[0;34m\u001b[0m\u001b[0;34m\u001b[0m\u001b[0;34m\u001b[0m\u001b[0m\n",
      "\u001b[0;31mNameError\u001b[0m: name 'num_players_by_gender' is not defined"
     ]
    }
   ],
   "source": [
    "# Purchase count by gender\n",
    "purchase_count_by_gender = group_by_gender.nunique()[\"Purchase ID\"]\n",
    "\n",
    "# Average purchase price by gender\n",
    "avg_purchase_by_gender = group_by_gender['Price'].mean()\n",
    "\n",
    "# Total purchase value by gender\n",
    "total_purchase_by_gender = group_by_gender['Price'].sum()\n",
    "\n",
    "# Average total purchase per person by gender\n",
    "avg_total_purchase_by_gender = total_purchase_by_gender / num_players_by_gender\n",
    "\n",
    "# Purchasing Analysis (by Gender)\n",
    "purchasing_analysis_by_gender = pd.DataFrame({\n",
    "    \"Purchase Count\": purchase_count_by_gender,\n",
    "    \"Average Purchase Price\": avg_purchase_by_gender,\n",
    "    \"Total Purchase Value\": total_purchase_by_gender,\n",
    "    \"Avg Total Purchase per Person\": avg_total_purchase_by_gender\n",
    "    })\n",
    "\n",
    "purchasing_analysis_by_gender.round(2)\n",
    "\n",
    "# Format with currency $ style\n",
    "purchasing_analysis_by_gender.style.format({\"Average Purchase Price\":\"${:,.2f}\",\n",
    "                                           \"Total Purchase Value\":\"${:,.2f}\",\n",
    "                                           \"Avg Total Purchase per Person\":\"${:,.2f}\"})"
   ]
  },
  {
   "cell_type": "markdown",
   "metadata": {},
   "source": [
    "## Age Demographics"
   ]
  },
  {
   "cell_type": "markdown",
   "metadata": {},
   "source": [
    "* Establish bins for ages\n",
    "\n",
    "\n",
    "* Categorize the existing players using the age bins. Hint: use pd.cut()\n",
    "\n",
    "\n",
    "* Calculate the numbers and percentages by age group\n",
    "\n",
    "\n",
    "* Create a summary data frame to hold the results\n",
    "\n",
    "\n",
    "* Optional: round the percentage column to two decimal points\n",
    "\n",
    "\n",
    "* Display Age Demographics Table\n"
   ]
  },
  {
   "cell_type": "code",
   "execution_count": 9,
   "metadata": {},
   "outputs": [
    {
     "data": {
      "text/html": [
       "<style  type=\"text/css\" >\n",
       "</style><table id=\"T_54a83f6c_aacf_11ea_bd63_784f438b805a\" ><thead>    <tr>        <th class=\"blank level0\" ></th>        <th class=\"col_heading level0 col0\" >Total Count</th>        <th class=\"col_heading level0 col1\" >Percentage of Players</th>    </tr>    <tr>        <th class=\"index_name level0\" >Age Ranges</th>        <th class=\"blank\" ></th>        <th class=\"blank\" ></th>    </tr></thead><tbody>\n",
       "                <tr>\n",
       "                        <th id=\"T_54a83f6c_aacf_11ea_bd63_784f438b805alevel0_row0\" class=\"row_heading level0 row0\" ><10</th>\n",
       "                        <td id=\"T_54a83f6c_aacf_11ea_bd63_784f438b805arow0_col0\" class=\"data row0 col0\" >17</td>\n",
       "                        <td id=\"T_54a83f6c_aacf_11ea_bd63_784f438b805arow0_col1\" class=\"data row0 col1\" >2.95%</td>\n",
       "            </tr>\n",
       "            <tr>\n",
       "                        <th id=\"T_54a83f6c_aacf_11ea_bd63_784f438b805alevel0_row1\" class=\"row_heading level0 row1\" >10-14</th>\n",
       "                        <td id=\"T_54a83f6c_aacf_11ea_bd63_784f438b805arow1_col0\" class=\"data row1 col0\" >22</td>\n",
       "                        <td id=\"T_54a83f6c_aacf_11ea_bd63_784f438b805arow1_col1\" class=\"data row1 col1\" >3.82%</td>\n",
       "            </tr>\n",
       "            <tr>\n",
       "                        <th id=\"T_54a83f6c_aacf_11ea_bd63_784f438b805alevel0_row2\" class=\"row_heading level0 row2\" >15-19</th>\n",
       "                        <td id=\"T_54a83f6c_aacf_11ea_bd63_784f438b805arow2_col0\" class=\"data row2 col0\" >107</td>\n",
       "                        <td id=\"T_54a83f6c_aacf_11ea_bd63_784f438b805arow2_col1\" class=\"data row2 col1\" >18.58%</td>\n",
       "            </tr>\n",
       "            <tr>\n",
       "                        <th id=\"T_54a83f6c_aacf_11ea_bd63_784f438b805alevel0_row3\" class=\"row_heading level0 row3\" >20-24</th>\n",
       "                        <td id=\"T_54a83f6c_aacf_11ea_bd63_784f438b805arow3_col0\" class=\"data row3 col0\" >258</td>\n",
       "                        <td id=\"T_54a83f6c_aacf_11ea_bd63_784f438b805arow3_col1\" class=\"data row3 col1\" >44.79%</td>\n",
       "            </tr>\n",
       "            <tr>\n",
       "                        <th id=\"T_54a83f6c_aacf_11ea_bd63_784f438b805alevel0_row4\" class=\"row_heading level0 row4\" >25-29</th>\n",
       "                        <td id=\"T_54a83f6c_aacf_11ea_bd63_784f438b805arow4_col0\" class=\"data row4 col0\" >77</td>\n",
       "                        <td id=\"T_54a83f6c_aacf_11ea_bd63_784f438b805arow4_col1\" class=\"data row4 col1\" >13.37%</td>\n",
       "            </tr>\n",
       "            <tr>\n",
       "                        <th id=\"T_54a83f6c_aacf_11ea_bd63_784f438b805alevel0_row5\" class=\"row_heading level0 row5\" >30-34</th>\n",
       "                        <td id=\"T_54a83f6c_aacf_11ea_bd63_784f438b805arow5_col0\" class=\"data row5 col0\" >52</td>\n",
       "                        <td id=\"T_54a83f6c_aacf_11ea_bd63_784f438b805arow5_col1\" class=\"data row5 col1\" >9.03%</td>\n",
       "            </tr>\n",
       "            <tr>\n",
       "                        <th id=\"T_54a83f6c_aacf_11ea_bd63_784f438b805alevel0_row6\" class=\"row_heading level0 row6\" >35-39</th>\n",
       "                        <td id=\"T_54a83f6c_aacf_11ea_bd63_784f438b805arow6_col0\" class=\"data row6 col0\" >31</td>\n",
       "                        <td id=\"T_54a83f6c_aacf_11ea_bd63_784f438b805arow6_col1\" class=\"data row6 col1\" >5.38%</td>\n",
       "            </tr>\n",
       "            <tr>\n",
       "                        <th id=\"T_54a83f6c_aacf_11ea_bd63_784f438b805alevel0_row7\" class=\"row_heading level0 row7\" >40+</th>\n",
       "                        <td id=\"T_54a83f6c_aacf_11ea_bd63_784f438b805arow7_col0\" class=\"data row7 col0\" >12</td>\n",
       "                        <td id=\"T_54a83f6c_aacf_11ea_bd63_784f438b805arow7_col1\" class=\"data row7 col1\" >2.08%</td>\n",
       "            </tr>\n",
       "    </tbody></table>"
      ],
      "text/plain": [
       "<pandas.io.formats.style.Styler at 0x116362dd0>"
      ]
     },
     "execution_count": 9,
     "metadata": {},
     "output_type": "execute_result"
    }
   ],
   "source": [
    "# Create bins for different age groups\n",
    "bins = [0, 9.99, 14.99, 19.99, 24.99, 29.99, 34.99, 39.99, 99999]\n",
    "group_names = ['<10', '10-14', '15-19', '20-24', '25-29', '30-34', '35-39', '40+']\n",
    "\n",
    "purchase_data['Age Ranges'] = pd.cut(purchase_data['Age'], bins, labels=group_names)\n",
    "group_by_age = purchase_data.groupby(\"Age Ranges\")\n",
    "\n",
    "# Calculate the total numbers and percentages by age group\n",
    "num_players_by_age = group_by_age[\"SN\"].nunique()\n",
    "percent_by_age = num_players_by_age / num_players * 100\n",
    "\n",
    "# Age Demographics analysis in a summary data frame\n",
    "age_demographics = pd.DataFrame({\n",
    "    \"Total Count\": num_players_by_age,\n",
    "    \"Percentage of Players\": percent_by_age\n",
    "    })\n",
    "\n",
    "age_demographics.round(2)\n",
    "\n",
    "# Format with % sign\n",
    "age_demographics.style.format({\"Percentage of Players\":\"{:,.2f}%\"})"
   ]
  },
  {
   "cell_type": "markdown",
   "metadata": {},
   "source": [
    "## Purchasing Analysis (Age)"
   ]
  },
  {
   "cell_type": "markdown",
   "metadata": {},
   "source": [
    "* Bin the purchase_data data frame by age\n",
    "\n",
    "\n",
    "* Run basic calculations to obtain purchase count, avg. purchase price, avg. purchase total per person etc. in the table below\n",
    "\n",
    "\n",
    "* Create a summary data frame to hold the results\n",
    "\n",
    "\n",
    "* Optional: give the displayed data cleaner formatting\n",
    "\n",
    "\n",
    "* Display the summary data frame"
   ]
  },
  {
   "cell_type": "code",
   "execution_count": 10,
   "metadata": {},
   "outputs": [
    {
     "data": {
      "text/html": [
       "<style  type=\"text/css\" >\n",
       "</style><table id=\"T_54e30e58_aacf_11ea_bd63_784f438b805a\" ><thead>    <tr>        <th class=\"blank level0\" ></th>        <th class=\"col_heading level0 col0\" >Purchase Count</th>        <th class=\"col_heading level0 col1\" >Average Purchase Price</th>        <th class=\"col_heading level0 col2\" >Total Purchase Value</th>        <th class=\"col_heading level0 col3\" >Avg Total Purchase per Person</th>    </tr>    <tr>        <th class=\"index_name level0\" >Age Ranges</th>        <th class=\"blank\" ></th>        <th class=\"blank\" ></th>        <th class=\"blank\" ></th>        <th class=\"blank\" ></th>    </tr></thead><tbody>\n",
       "                <tr>\n",
       "                        <th id=\"T_54e30e58_aacf_11ea_bd63_784f438b805alevel0_row0\" class=\"row_heading level0 row0\" ><10</th>\n",
       "                        <td id=\"T_54e30e58_aacf_11ea_bd63_784f438b805arow0_col0\" class=\"data row0 col0\" >23</td>\n",
       "                        <td id=\"T_54e30e58_aacf_11ea_bd63_784f438b805arow0_col1\" class=\"data row0 col1\" >$3.35</td>\n",
       "                        <td id=\"T_54e30e58_aacf_11ea_bd63_784f438b805arow0_col2\" class=\"data row0 col2\" >$77.13</td>\n",
       "                        <td id=\"T_54e30e58_aacf_11ea_bd63_784f438b805arow0_col3\" class=\"data row0 col3\" >$4.54</td>\n",
       "            </tr>\n",
       "            <tr>\n",
       "                        <th id=\"T_54e30e58_aacf_11ea_bd63_784f438b805alevel0_row1\" class=\"row_heading level0 row1\" >10-14</th>\n",
       "                        <td id=\"T_54e30e58_aacf_11ea_bd63_784f438b805arow1_col0\" class=\"data row1 col0\" >28</td>\n",
       "                        <td id=\"T_54e30e58_aacf_11ea_bd63_784f438b805arow1_col1\" class=\"data row1 col1\" >$2.96</td>\n",
       "                        <td id=\"T_54e30e58_aacf_11ea_bd63_784f438b805arow1_col2\" class=\"data row1 col2\" >$82.78</td>\n",
       "                        <td id=\"T_54e30e58_aacf_11ea_bd63_784f438b805arow1_col3\" class=\"data row1 col3\" >$3.76</td>\n",
       "            </tr>\n",
       "            <tr>\n",
       "                        <th id=\"T_54e30e58_aacf_11ea_bd63_784f438b805alevel0_row2\" class=\"row_heading level0 row2\" >15-19</th>\n",
       "                        <td id=\"T_54e30e58_aacf_11ea_bd63_784f438b805arow2_col0\" class=\"data row2 col0\" >136</td>\n",
       "                        <td id=\"T_54e30e58_aacf_11ea_bd63_784f438b805arow2_col1\" class=\"data row2 col1\" >$3.04</td>\n",
       "                        <td id=\"T_54e30e58_aacf_11ea_bd63_784f438b805arow2_col2\" class=\"data row2 col2\" >$412.89</td>\n",
       "                        <td id=\"T_54e30e58_aacf_11ea_bd63_784f438b805arow2_col3\" class=\"data row2 col3\" >$3.86</td>\n",
       "            </tr>\n",
       "            <tr>\n",
       "                        <th id=\"T_54e30e58_aacf_11ea_bd63_784f438b805alevel0_row3\" class=\"row_heading level0 row3\" >20-24</th>\n",
       "                        <td id=\"T_54e30e58_aacf_11ea_bd63_784f438b805arow3_col0\" class=\"data row3 col0\" >365</td>\n",
       "                        <td id=\"T_54e30e58_aacf_11ea_bd63_784f438b805arow3_col1\" class=\"data row3 col1\" >$3.05</td>\n",
       "                        <td id=\"T_54e30e58_aacf_11ea_bd63_784f438b805arow3_col2\" class=\"data row3 col2\" >$1,114.06</td>\n",
       "                        <td id=\"T_54e30e58_aacf_11ea_bd63_784f438b805arow3_col3\" class=\"data row3 col3\" >$4.32</td>\n",
       "            </tr>\n",
       "            <tr>\n",
       "                        <th id=\"T_54e30e58_aacf_11ea_bd63_784f438b805alevel0_row4\" class=\"row_heading level0 row4\" >25-29</th>\n",
       "                        <td id=\"T_54e30e58_aacf_11ea_bd63_784f438b805arow4_col0\" class=\"data row4 col0\" >101</td>\n",
       "                        <td id=\"T_54e30e58_aacf_11ea_bd63_784f438b805arow4_col1\" class=\"data row4 col1\" >$2.90</td>\n",
       "                        <td id=\"T_54e30e58_aacf_11ea_bd63_784f438b805arow4_col2\" class=\"data row4 col2\" >$293.00</td>\n",
       "                        <td id=\"T_54e30e58_aacf_11ea_bd63_784f438b805arow4_col3\" class=\"data row4 col3\" >$3.81</td>\n",
       "            </tr>\n",
       "            <tr>\n",
       "                        <th id=\"T_54e30e58_aacf_11ea_bd63_784f438b805alevel0_row5\" class=\"row_heading level0 row5\" >30-34</th>\n",
       "                        <td id=\"T_54e30e58_aacf_11ea_bd63_784f438b805arow5_col0\" class=\"data row5 col0\" >73</td>\n",
       "                        <td id=\"T_54e30e58_aacf_11ea_bd63_784f438b805arow5_col1\" class=\"data row5 col1\" >$2.93</td>\n",
       "                        <td id=\"T_54e30e58_aacf_11ea_bd63_784f438b805arow5_col2\" class=\"data row5 col2\" >$214.00</td>\n",
       "                        <td id=\"T_54e30e58_aacf_11ea_bd63_784f438b805arow5_col3\" class=\"data row5 col3\" >$4.12</td>\n",
       "            </tr>\n",
       "            <tr>\n",
       "                        <th id=\"T_54e30e58_aacf_11ea_bd63_784f438b805alevel0_row6\" class=\"row_heading level0 row6\" >35-39</th>\n",
       "                        <td id=\"T_54e30e58_aacf_11ea_bd63_784f438b805arow6_col0\" class=\"data row6 col0\" >41</td>\n",
       "                        <td id=\"T_54e30e58_aacf_11ea_bd63_784f438b805arow6_col1\" class=\"data row6 col1\" >$3.60</td>\n",
       "                        <td id=\"T_54e30e58_aacf_11ea_bd63_784f438b805arow6_col2\" class=\"data row6 col2\" >$147.67</td>\n",
       "                        <td id=\"T_54e30e58_aacf_11ea_bd63_784f438b805arow6_col3\" class=\"data row6 col3\" >$4.76</td>\n",
       "            </tr>\n",
       "            <tr>\n",
       "                        <th id=\"T_54e30e58_aacf_11ea_bd63_784f438b805alevel0_row7\" class=\"row_heading level0 row7\" >40+</th>\n",
       "                        <td id=\"T_54e30e58_aacf_11ea_bd63_784f438b805arow7_col0\" class=\"data row7 col0\" >13</td>\n",
       "                        <td id=\"T_54e30e58_aacf_11ea_bd63_784f438b805arow7_col1\" class=\"data row7 col1\" >$2.94</td>\n",
       "                        <td id=\"T_54e30e58_aacf_11ea_bd63_784f438b805arow7_col2\" class=\"data row7 col2\" >$38.24</td>\n",
       "                        <td id=\"T_54e30e58_aacf_11ea_bd63_784f438b805arow7_col3\" class=\"data row7 col3\" >$3.19</td>\n",
       "            </tr>\n",
       "    </tbody></table>"
      ],
      "text/plain": [
       "<pandas.io.formats.style.Styler at 0x117754c90>"
      ]
     },
     "execution_count": 10,
     "metadata": {},
     "output_type": "execute_result"
    }
   ],
   "source": [
    "# simlar to the purchasing analysis by gender above\n",
    "# Purchase count by age\n",
    "purchase_count_by_age = group_by_age.nunique()[\"Purchase ID\"]\n",
    "\n",
    "# Average purchase price by age\n",
    "avg_purchase_by_age = group_by_age['Price'].mean()\n",
    "\n",
    "# Total purchase value by age\n",
    "total_purchase_by_age = group_by_age['Price'].sum()\n",
    "\n",
    "# Average total purchase per person by age\n",
    "avg_total_purchase_by_age = total_purchase_by_age / num_players_by_age\n",
    "\n",
    "# Purchasing Analysis (by Age)\n",
    "purchasing_analysis_by_age = pd.DataFrame({\n",
    "    \"Purchase Count\": purchase_count_by_age,\n",
    "    \"Average Purchase Price\": avg_purchase_by_age,\n",
    "    \"Total Purchase Value\": total_purchase_by_age,\n",
    "    \"Avg Total Purchase per Person\": avg_total_purchase_by_age\n",
    "    })\n",
    "\n",
    "purchasing_analysis_by_age.round(2)\n",
    "\n",
    "# Format with currency $ style\n",
    "purchasing_analysis_by_age.style.format({\"Average Purchase Price\":\"${:,.2f}\",\n",
    "                                       \"Total Purchase Value\":\"${:,.2f}\",\n",
    "                                       \"Avg Total Purchase per Person\":\"${:,.2f}\"})"
   ]
  },
  {
   "cell_type": "markdown",
   "metadata": {},
   "source": [
    "## Top Spenders"
   ]
  },
  {
   "cell_type": "markdown",
   "metadata": {},
   "source": [
    "* Run basic calculations to obtain the results in the table below\n",
    "\n",
    "\n",
    "* Create a summary data frame to hold the results\n",
    "\n",
    "\n",
    "* Sort the total purchase value column in descending order\n",
    "\n",
    "\n",
    "* Optional: give the displayed data cleaner formatting\n",
    "\n",
    "\n",
    "* Display a preview of the summary data frame\n",
    "\n"
   ]
  },
  {
   "cell_type": "code",
   "execution_count": 11,
   "metadata": {},
   "outputs": [
    {
     "data": {
      "text/html": [
       "<style  type=\"text/css\" >\n",
       "</style><table id=\"T_5536c912_aacf_11ea_bd63_784f438b805a\" ><thead>    <tr>        <th class=\"blank level0\" ></th>        <th class=\"col_heading level0 col0\" >Purchase Count</th>        <th class=\"col_heading level0 col1\" >Average Purchase Price</th>        <th class=\"col_heading level0 col2\" >Total Purchase Value</th>    </tr>    <tr>        <th class=\"index_name level0\" >SN</th>        <th class=\"blank\" ></th>        <th class=\"blank\" ></th>        <th class=\"blank\" ></th>    </tr></thead><tbody>\n",
       "                <tr>\n",
       "                        <th id=\"T_5536c912_aacf_11ea_bd63_784f438b805alevel0_row0\" class=\"row_heading level0 row0\" >Lisosia93</th>\n",
       "                        <td id=\"T_5536c912_aacf_11ea_bd63_784f438b805arow0_col0\" class=\"data row0 col0\" >5</td>\n",
       "                        <td id=\"T_5536c912_aacf_11ea_bd63_784f438b805arow0_col1\" class=\"data row0 col1\" >$3.79</td>\n",
       "                        <td id=\"T_5536c912_aacf_11ea_bd63_784f438b805arow0_col2\" class=\"data row0 col2\" >$18.96</td>\n",
       "            </tr>\n",
       "            <tr>\n",
       "                        <th id=\"T_5536c912_aacf_11ea_bd63_784f438b805alevel0_row1\" class=\"row_heading level0 row1\" >Idastidru52</th>\n",
       "                        <td id=\"T_5536c912_aacf_11ea_bd63_784f438b805arow1_col0\" class=\"data row1 col0\" >4</td>\n",
       "                        <td id=\"T_5536c912_aacf_11ea_bd63_784f438b805arow1_col1\" class=\"data row1 col1\" >$3.86</td>\n",
       "                        <td id=\"T_5536c912_aacf_11ea_bd63_784f438b805arow1_col2\" class=\"data row1 col2\" >$15.45</td>\n",
       "            </tr>\n",
       "            <tr>\n",
       "                        <th id=\"T_5536c912_aacf_11ea_bd63_784f438b805alevel0_row2\" class=\"row_heading level0 row2\" >Chamjask73</th>\n",
       "                        <td id=\"T_5536c912_aacf_11ea_bd63_784f438b805arow2_col0\" class=\"data row2 col0\" >3</td>\n",
       "                        <td id=\"T_5536c912_aacf_11ea_bd63_784f438b805arow2_col1\" class=\"data row2 col1\" >$4.61</td>\n",
       "                        <td id=\"T_5536c912_aacf_11ea_bd63_784f438b805arow2_col2\" class=\"data row2 col2\" >$13.83</td>\n",
       "            </tr>\n",
       "            <tr>\n",
       "                        <th id=\"T_5536c912_aacf_11ea_bd63_784f438b805alevel0_row3\" class=\"row_heading level0 row3\" >Iral74</th>\n",
       "                        <td id=\"T_5536c912_aacf_11ea_bd63_784f438b805arow3_col0\" class=\"data row3 col0\" >4</td>\n",
       "                        <td id=\"T_5536c912_aacf_11ea_bd63_784f438b805arow3_col1\" class=\"data row3 col1\" >$3.40</td>\n",
       "                        <td id=\"T_5536c912_aacf_11ea_bd63_784f438b805arow3_col2\" class=\"data row3 col2\" >$13.62</td>\n",
       "            </tr>\n",
       "            <tr>\n",
       "                        <th id=\"T_5536c912_aacf_11ea_bd63_784f438b805alevel0_row4\" class=\"row_heading level0 row4\" >Iskadarya95</th>\n",
       "                        <td id=\"T_5536c912_aacf_11ea_bd63_784f438b805arow4_col0\" class=\"data row4 col0\" >3</td>\n",
       "                        <td id=\"T_5536c912_aacf_11ea_bd63_784f438b805arow4_col1\" class=\"data row4 col1\" >$4.37</td>\n",
       "                        <td id=\"T_5536c912_aacf_11ea_bd63_784f438b805arow4_col2\" class=\"data row4 col2\" >$13.10</td>\n",
       "            </tr>\n",
       "    </tbody></table>"
      ],
      "text/plain": [
       "<pandas.io.formats.style.Styler at 0x1173cb250>"
      ]
     },
     "execution_count": 11,
     "metadata": {},
     "output_type": "execute_result"
    }
   ],
   "source": [
    "group_by_spender = purchase_data.groupby(\"SN\")\n",
    "\n",
    "# Calculate Purchase Count, Average Purchase Price, Total Purchase Value by spenders\n",
    "purchase_count_by_spender = purchase_data.groupby(\"SN\")[\"Purchase ID\"].count()\n",
    "avg_purchase_by_spender = group_by_spender['Price'].mean()\n",
    "total_purchase_by_spender = group_by_spender['Price'].sum()\n",
    "\n",
    "# Create a summary data frame to hold the results\n",
    "spenders = pd.DataFrame({\"Purchase Count\": purchase_count_by_spender,\n",
    "                         \"Average Purchase Price\": avg_purchase_by_spender,\n",
    "                         \"Total Purchase Value\":total_purchase_by_spender})\n",
    "\n",
    "# Identify the the top 5 spenders in the game by total purchase value\n",
    "top_spenders = spenders.sort_values(by=['Total Purchase Value'], ascending=False).head()\n",
    "\n",
    "top_spenders.style.format({\"Average Purchase Price\":\"${:,.2f}\", \n",
    "                           \"Total Purchase Value\":\"${:,.2f}\"})\n",
    "# top_spenders.head(5)"
   ]
  },
  {
   "cell_type": "markdown",
   "metadata": {},
   "source": [
    "## Most Popular Items"
   ]
  },
  {
   "cell_type": "markdown",
   "metadata": {},
   "source": [
    "* Retrieve the Item ID, Item Name, and Item Price columns\n",
    "\n",
    "\n",
    "* Group by Item ID and Item Name. Perform calculations to obtain purchase count, item price, and total purchase value\n",
    "\n",
    "\n",
    "* Create a summary data frame to hold the results\n",
    "\n",
    "\n",
    "* Sort the purchase count column in descending order\n",
    "\n",
    "\n",
    "* Optional: give the displayed data cleaner formatting\n",
    "\n",
    "\n",
    "* Display a preview of the summary data frame\n",
    "\n"
   ]
  },
  {
   "cell_type": "code",
   "execution_count": 12,
   "metadata": {},
   "outputs": [
    {
     "data": {
      "text/html": [
       "<style  type=\"text/css\" >\n",
       "</style><table id=\"T_557b8836_aacf_11ea_bd63_784f438b805a\" ><thead>    <tr>        <th class=\"blank\" ></th>        <th class=\"blank level0\" ></th>        <th class=\"col_heading level0 col0\" >Purchase Count</th>        <th class=\"col_heading level0 col1\" >Item Price</th>        <th class=\"col_heading level0 col2\" >Total Purchase Value</th>    </tr>    <tr>        <th class=\"index_name level0\" >Item ID</th>        <th class=\"index_name level1\" >Item Name</th>        <th class=\"blank\" ></th>        <th class=\"blank\" ></th>        <th class=\"blank\" ></th>    </tr></thead><tbody>\n",
       "                <tr>\n",
       "                        <th id=\"T_557b8836_aacf_11ea_bd63_784f438b805alevel0_row0\" class=\"row_heading level0 row0\" >92</th>\n",
       "                        <th id=\"T_557b8836_aacf_11ea_bd63_784f438b805alevel1_row0\" class=\"row_heading level1 row0\" >Final Critic</th>\n",
       "                        <td id=\"T_557b8836_aacf_11ea_bd63_784f438b805arow0_col0\" class=\"data row0 col0\" >13</td>\n",
       "                        <td id=\"T_557b8836_aacf_11ea_bd63_784f438b805arow0_col1\" class=\"data row0 col1\" >$4.61</td>\n",
       "                        <td id=\"T_557b8836_aacf_11ea_bd63_784f438b805arow0_col2\" class=\"data row0 col2\" >$59.99</td>\n",
       "            </tr>\n",
       "            <tr>\n",
       "                        <th id=\"T_557b8836_aacf_11ea_bd63_784f438b805alevel0_row1\" class=\"row_heading level0 row1\" >178</th>\n",
       "                        <th id=\"T_557b8836_aacf_11ea_bd63_784f438b805alevel1_row1\" class=\"row_heading level1 row1\" >Oathbreaker, Last Hope of the Breaking Storm</th>\n",
       "                        <td id=\"T_557b8836_aacf_11ea_bd63_784f438b805arow1_col0\" class=\"data row1 col0\" >12</td>\n",
       "                        <td id=\"T_557b8836_aacf_11ea_bd63_784f438b805arow1_col1\" class=\"data row1 col1\" >$4.23</td>\n",
       "                        <td id=\"T_557b8836_aacf_11ea_bd63_784f438b805arow1_col2\" class=\"data row1 col2\" >$50.76</td>\n",
       "            </tr>\n",
       "            <tr>\n",
       "                        <th id=\"T_557b8836_aacf_11ea_bd63_784f438b805alevel0_row2\" class=\"row_heading level0 row2\" >82</th>\n",
       "                        <th id=\"T_557b8836_aacf_11ea_bd63_784f438b805alevel1_row2\" class=\"row_heading level1 row2\" >Nirvana</th>\n",
       "                        <td id=\"T_557b8836_aacf_11ea_bd63_784f438b805arow2_col0\" class=\"data row2 col0\" >9</td>\n",
       "                        <td id=\"T_557b8836_aacf_11ea_bd63_784f438b805arow2_col1\" class=\"data row2 col1\" >$4.90</td>\n",
       "                        <td id=\"T_557b8836_aacf_11ea_bd63_784f438b805arow2_col2\" class=\"data row2 col2\" >$44.10</td>\n",
       "            </tr>\n",
       "            <tr>\n",
       "                        <th id=\"T_557b8836_aacf_11ea_bd63_784f438b805alevel0_row3\" class=\"row_heading level0 row3\" >145</th>\n",
       "                        <th id=\"T_557b8836_aacf_11ea_bd63_784f438b805alevel1_row3\" class=\"row_heading level1 row3\" >Fiery Glass Crusader</th>\n",
       "                        <td id=\"T_557b8836_aacf_11ea_bd63_784f438b805arow3_col0\" class=\"data row3 col0\" >9</td>\n",
       "                        <td id=\"T_557b8836_aacf_11ea_bd63_784f438b805arow3_col1\" class=\"data row3 col1\" >$4.58</td>\n",
       "                        <td id=\"T_557b8836_aacf_11ea_bd63_784f438b805arow3_col2\" class=\"data row3 col2\" >$41.22</td>\n",
       "            </tr>\n",
       "            <tr>\n",
       "                        <th id=\"T_557b8836_aacf_11ea_bd63_784f438b805alevel0_row4\" class=\"row_heading level0 row4\" >103</th>\n",
       "                        <th id=\"T_557b8836_aacf_11ea_bd63_784f438b805alevel1_row4\" class=\"row_heading level1 row4\" >Singed Scalpel</th>\n",
       "                        <td id=\"T_557b8836_aacf_11ea_bd63_784f438b805arow4_col0\" class=\"data row4 col0\" >8</td>\n",
       "                        <td id=\"T_557b8836_aacf_11ea_bd63_784f438b805arow4_col1\" class=\"data row4 col1\" >$4.35</td>\n",
       "                        <td id=\"T_557b8836_aacf_11ea_bd63_784f438b805arow4_col2\" class=\"data row4 col2\" >$34.80</td>\n",
       "            </tr>\n",
       "    </tbody></table>"
      ],
      "text/plain": [
       "<pandas.io.formats.style.Styler at 0x117682f50>"
      ]
     },
     "execution_count": 12,
     "metadata": {},
     "output_type": "execute_result"
    }
   ],
   "source": [
    "# Identify the the top 5 most popular items by purchase count\n",
    "\n",
    "\n",
    "# Obtain the relevant columns from the original dataset\n",
    "columns = purchase_data[[\"Item ID\", \"Item Name\", \"Price\"]]\n",
    "\n",
    "# Group the item data by item id and item name \n",
    "group_by_popularity = columns.groupby([\"Item ID\",\"Item Name\"])\n",
    "\n",
    "# Calculate Purchase Count, Average Purchase Price, Item Price, Total Purchase Value by spenders\n",
    "purchase_count_by_popularity = group_by_popularity[\"Price\"].count()\n",
    "total_purchase_by_popularity = group_by_popularity[\"Price\"].sum()\n",
    "item_price = total_purchase_by_popularity/purchase_count_by_popularity\n",
    "\n",
    "# Create a summary data frame to hold the results\n",
    "popularity = pd.DataFrame({\"Purchase Count\": purchase_count_by_popularity,\n",
    "                           \"Item Price\": item_price,\n",
    "                           \"Total Purchase Value\":total_purchase_by_popularity})\n",
    "\n",
    "# Identify the the top 5 most popular items by purchase count\n",
    "top_popularity = popularity.sort_values(by=['Total Purchase Value'], ascending=False).head()\n",
    "\n",
    "top_popularity.style.format({\"Item Price\":\"${:,.2f}\",\n",
    "                             \"Total Purchase Value\":\"${:,.2f}\"})"
   ]
  },
  {
   "cell_type": "markdown",
   "metadata": {},
   "source": [
    "## Most Profitable Items"
   ]
  },
  {
   "cell_type": "markdown",
   "metadata": {},
   "source": [
    "* Sort the above table by total purchase value in descending order\n",
    "\n",
    "\n",
    "* Optional: give the displayed data cleaner formatting\n",
    "\n",
    "\n",
    "* Display a preview of the data frame\n",
    "\n"
   ]
  },
  {
   "cell_type": "code",
   "execution_count": 13,
   "metadata": {
    "scrolled": true
   },
   "outputs": [
    {
     "data": {
      "text/html": [
       "<style  type=\"text/css\" >\n",
       "</style><table id=\"T_55bdd268_aacf_11ea_bd63_784f438b805a\" ><thead>    <tr>        <th class=\"blank\" ></th>        <th class=\"blank level0\" ></th>        <th class=\"col_heading level0 col0\" >Purchase Count</th>        <th class=\"col_heading level0 col1\" >Item Price</th>        <th class=\"col_heading level0 col2\" >Total Purchase Value</th>    </tr>    <tr>        <th class=\"index_name level0\" >Item ID</th>        <th class=\"index_name level1\" >Item Name</th>        <th class=\"blank\" ></th>        <th class=\"blank\" ></th>        <th class=\"blank\" ></th>    </tr></thead><tbody>\n",
       "                <tr>\n",
       "                        <th id=\"T_55bdd268_aacf_11ea_bd63_784f438b805alevel0_row0\" class=\"row_heading level0 row0\" >92</th>\n",
       "                        <th id=\"T_55bdd268_aacf_11ea_bd63_784f438b805alevel1_row0\" class=\"row_heading level1 row0\" >Final Critic</th>\n",
       "                        <td id=\"T_55bdd268_aacf_11ea_bd63_784f438b805arow0_col0\" class=\"data row0 col0\" >13</td>\n",
       "                        <td id=\"T_55bdd268_aacf_11ea_bd63_784f438b805arow0_col1\" class=\"data row0 col1\" >$4.61</td>\n",
       "                        <td id=\"T_55bdd268_aacf_11ea_bd63_784f438b805arow0_col2\" class=\"data row0 col2\" >$59.99</td>\n",
       "            </tr>\n",
       "            <tr>\n",
       "                        <th id=\"T_55bdd268_aacf_11ea_bd63_784f438b805alevel0_row1\" class=\"row_heading level0 row1\" >178</th>\n",
       "                        <th id=\"T_55bdd268_aacf_11ea_bd63_784f438b805alevel1_row1\" class=\"row_heading level1 row1\" >Oathbreaker, Last Hope of the Breaking Storm</th>\n",
       "                        <td id=\"T_55bdd268_aacf_11ea_bd63_784f438b805arow1_col0\" class=\"data row1 col0\" >12</td>\n",
       "                        <td id=\"T_55bdd268_aacf_11ea_bd63_784f438b805arow1_col1\" class=\"data row1 col1\" >$4.23</td>\n",
       "                        <td id=\"T_55bdd268_aacf_11ea_bd63_784f438b805arow1_col2\" class=\"data row1 col2\" >$50.76</td>\n",
       "            </tr>\n",
       "            <tr>\n",
       "                        <th id=\"T_55bdd268_aacf_11ea_bd63_784f438b805alevel0_row2\" class=\"row_heading level0 row2\" >82</th>\n",
       "                        <th id=\"T_55bdd268_aacf_11ea_bd63_784f438b805alevel1_row2\" class=\"row_heading level1 row2\" >Nirvana</th>\n",
       "                        <td id=\"T_55bdd268_aacf_11ea_bd63_784f438b805arow2_col0\" class=\"data row2 col0\" >9</td>\n",
       "                        <td id=\"T_55bdd268_aacf_11ea_bd63_784f438b805arow2_col1\" class=\"data row2 col1\" >$4.90</td>\n",
       "                        <td id=\"T_55bdd268_aacf_11ea_bd63_784f438b805arow2_col2\" class=\"data row2 col2\" >$44.10</td>\n",
       "            </tr>\n",
       "            <tr>\n",
       "                        <th id=\"T_55bdd268_aacf_11ea_bd63_784f438b805alevel0_row3\" class=\"row_heading level0 row3\" >145</th>\n",
       "                        <th id=\"T_55bdd268_aacf_11ea_bd63_784f438b805alevel1_row3\" class=\"row_heading level1 row3\" >Fiery Glass Crusader</th>\n",
       "                        <td id=\"T_55bdd268_aacf_11ea_bd63_784f438b805arow3_col0\" class=\"data row3 col0\" >9</td>\n",
       "                        <td id=\"T_55bdd268_aacf_11ea_bd63_784f438b805arow3_col1\" class=\"data row3 col1\" >$4.58</td>\n",
       "                        <td id=\"T_55bdd268_aacf_11ea_bd63_784f438b805arow3_col2\" class=\"data row3 col2\" >$41.22</td>\n",
       "            </tr>\n",
       "            <tr>\n",
       "                        <th id=\"T_55bdd268_aacf_11ea_bd63_784f438b805alevel0_row4\" class=\"row_heading level0 row4\" >103</th>\n",
       "                        <th id=\"T_55bdd268_aacf_11ea_bd63_784f438b805alevel1_row4\" class=\"row_heading level1 row4\" >Singed Scalpel</th>\n",
       "                        <td id=\"T_55bdd268_aacf_11ea_bd63_784f438b805arow4_col0\" class=\"data row4 col0\" >8</td>\n",
       "                        <td id=\"T_55bdd268_aacf_11ea_bd63_784f438b805arow4_col1\" class=\"data row4 col1\" >$4.35</td>\n",
       "                        <td id=\"T_55bdd268_aacf_11ea_bd63_784f438b805arow4_col2\" class=\"data row4 col2\" >$34.80</td>\n",
       "            </tr>\n",
       "    </tbody></table>"
      ],
      "text/plain": [
       "<pandas.io.formats.style.Styler at 0x117772610>"
      ]
     },
     "execution_count": 13,
     "metadata": {},
     "output_type": "execute_result"
    }
   ],
   "source": [
    "# Identify the 5 most profitable items by total purchase value\n",
    "\n",
    "# Obtain the relevant columns from the original dataset\n",
    "columns = purchase_data[[\"Item ID\", \"Item Name\", \"Price\"]]\n",
    "\n",
    "# Group the item data by item id and item name \n",
    "group_by_profitability = columns.groupby([\"Item ID\",\"Item Name\"])\n",
    "\n",
    "# Calculate Purchase Count, Average Purchase Price, Item Price, Total Purchase Value by spenders\n",
    "purchase_count_by_profitability = group_by_profitability[\"Price\"].count()\n",
    "total_purchase_by_profitability = group_by_profitability[\"Price\"].sum()\n",
    "item_price = total_purchase_by_profitability/purchase_count_by_profitability\n",
    "\n",
    "# Create a summary data frame to hold the results\n",
    "profitability = pd.DataFrame({\"Purchase Count\": purchase_count_by_profitability,\n",
    "                           \"Item Price\": item_price,\n",
    "                           \"Total Purchase Value\":total_purchase_by_profitability})\n",
    "\n",
    "# Identify the 5 most profitable items by total purchase value\n",
    "top_profitability = profitability.sort_values(by=['Total Purchase Value'], ascending=False).head()\n",
    "\n",
    "top_profitability.style.format({\"Item Price\":\"${:,.2f}\",\n",
    "                             \"Total Purchase Value\":\"${:,.2f}\"})"
   ]
  },
  {
   "cell_type": "code",
   "execution_count": null,
   "metadata": {},
   "outputs": [],
   "source": []
  }
 ],
 "metadata": {
  "anaconda-cloud": {},
  "kernel_info": {
   "name": "python3"
  },
  "kernelspec": {
   "display_name": "Python 3",
   "language": "python",
   "name": "python3"
  },
  "language_info": {
   "codemirror_mode": {
    "name": "ipython",
    "version": 3
   },
   "file_extension": ".py",
   "mimetype": "text/x-python",
   "name": "python",
   "nbconvert_exporter": "python",
   "pygments_lexer": "ipython3",
   "version": "3.7.6"
  },
  "latex_envs": {
   "LaTeX_envs_menu_present": true,
   "autoclose": false,
   "autocomplete": true,
   "bibliofile": "biblio.bib",
   "cite_by": "apalike",
   "current_citInitial": 1,
   "eqLabelWithNumbers": true,
   "eqNumInitial": 1,
   "hotkeys": {
    "equation": "Ctrl-E",
    "itemize": "Ctrl-I"
   },
   "labels_anchors": false,
   "latex_user_defs": false,
   "report_style_numbering": false,
   "user_envs_cfg": false
  },
  "nteract": {
   "version": "0.2.0"
  }
 },
 "nbformat": 4,
 "nbformat_minor": 2
}
